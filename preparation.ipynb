{
 "cells": [
  {
   "cell_type": "markdown",
   "metadata": {},
   "source": [
    "# Dataset"
   ]
  },
  {
   "cell_type": "code",
   "execution_count": null,
   "metadata": {},
   "outputs": [],
   "source": [
    "from datasets import load_dataset\n",
    "\n",
    "dataset_name = 'MRPC'\n",
    "dataset = load_dataset(\"glue\", dataset_name)\n",
    "# you can use any of the following config names as a second argument:\n",
    "\"ax\", \"cola\", \"mnli\", \"mnli_matched\", \n",
    "\"mnli_mismatched\", \"mrpc\", \"qnli\", \"qqp\", \n",
    "\"rte\", \"sst2\", \"stsb\", \"wnli\""
   ]
  },
  {
   "cell_type": "code",
   "execution_count": null,
   "metadata": {},
   "outputs": [],
   "source": [
    "import jsonlines\n",
    "import os\n",
    "from tqdm.auto import trange\n",
    "dataset_name = dataset_name.upper()\n",
    "splits = dataset.keys()\n",
    "# split = 'validation'\n",
    "for split in splits:\n",
    "    output_path = f\"data/{dataset_name}/{split}\"\n",
    "    os.makedirs(output_path, exist_ok=True)\n",
    "    with jsonlines.open(os.path.join(output_path, 'all.jsonl'), 'w') as jlWriter:\n",
    "        objs = []\n",
    "        keys = list(dataset[split].features.keys())\n",
    "        data_dict = {key:dataset[split][key] for key in keys}\n",
    "        for i in trange(dataset[split].num_rows):\n",
    "            objs.append({key:data_dict[key][i] for key in keys})\n",
    "        jlWriter.write_all(objs)\n"
   ]
  },
  {
   "cell_type": "markdown",
   "metadata": {},
   "source": [
    "# Model"
   ]
  },
  {
   "cell_type": "code",
   "execution_count": 3,
   "metadata": {},
   "outputs": [
    {
     "name": "stdout",
     "output_type": "stream",
     "text": [
      "https://huggingface.co/Qwen/Qwen-14B-Chat/resolve/main/model-00001-of-00015.safetensors\n",
      "https://huggingface.co/Qwen/Qwen-14B-Chat/resolve/main/model-00002-of-00015.safetensors\n",
      "https://huggingface.co/Qwen/Qwen-14B-Chat/resolve/main/model-00003-of-00015.safetensors\n",
      "https://huggingface.co/Qwen/Qwen-14B-Chat/resolve/main/model-00004-of-00015.safetensors\n",
      "https://huggingface.co/Qwen/Qwen-14B-Chat/resolve/main/model-00005-of-00015.safetensors\n",
      "https://huggingface.co/Qwen/Qwen-14B-Chat/resolve/main/model-00006-of-00015.safetensors\n",
      "https://huggingface.co/Qwen/Qwen-14B-Chat/resolve/main/model-00007-of-00015.safetensors\n",
      "https://huggingface.co/Qwen/Qwen-14B-Chat/resolve/main/model-00008-of-00015.safetensors\n",
      "https://huggingface.co/Qwen/Qwen-14B-Chat/resolve/main/model-00009-of-00015.safetensors\n",
      "https://huggingface.co/Qwen/Qwen-14B-Chat/resolve/main/model-00010-of-00015.safetensors\n",
      "https://huggingface.co/Qwen/Qwen-14B-Chat/resolve/main/model-00011-of-00015.safetensors\n",
      "https://huggingface.co/Qwen/Qwen-14B-Chat/resolve/main/model-00012-of-00015.safetensors\n",
      "https://huggingface.co/Qwen/Qwen-14B-Chat/resolve/main/model-00013-of-00015.safetensors\n",
      "https://huggingface.co/Qwen/Qwen-14B-Chat/resolve/main/model-00014-of-00015.safetensors\n",
      "https://huggingface.co/Qwen/Qwen-14B-Chat/resolve/main/model-00015-of-00015.safetensors\n"
     ]
    }
   ],
   "source": [
    "for x in range(1, 16):\n",
    "    url = f\"https://huggingface.co/Qwen/Qwen-14B-Chat/resolve/main/model-000{x:02d}-of-00015.safetensors\"\n",
    "    print(url)"
   ]
  },
  {
   "cell_type": "code",
   "execution_count": null,
   "metadata": {},
   "outputs": [],
   "source": [
    "from huggingface_hub import hf_hub_download\n",
    "\n",
    "model_name = \"Qwen/Qwen-14B-Chat\"\n",
    "local_dir = f\"../../pretrained/{model_name}\"\n",
    "hf_hub_download(\n",
    "    repo_id=model_name,\n",
    "    filename=\"model-00008-of-00015.safetensors\",\n",
    "    cache_dir=\"/data/jjwang/.cache/hf_cache\",\n",
    "    local_dir=local_dir,\n",
    "    local_dir_use_symlinks=False,\n",
    ")"
   ]
  },
  {
   "cell_type": "code",
   "execution_count": null,
   "metadata": {
    "vscode": {
     "languageId": "shellscript"
    }
   },
   "outputs": [],
   "source": [
    "model_name=\"Qwen/Qwen-14B-Chat\"\n",
    "local_dir=\"../../pretrained/${model_name}\"\n",
    "nohup huggingface-cli download $model_name --exclude \".safetensors\" --local-dir $local_dir --local-dir-use-symlinks False --cache-dir /data/jjwang/.cache/hf_cache > ./downloading.log 2>&1 &"
   ]
  },
  {
   "cell_type": "code",
   "execution_count": null,
   "metadata": {
    "vscode": {
     "languageId": "shellscript"
    }
   },
   "outputs": [],
   "source": [
    "model_name=\"bert-base-chinese\"\n",
    "local_dir=\"../../pretrained/${model_name}\"\n",
    "huggingface-cli download $model_name --exclude \"*.safetensors\" --exclude \"*.h5\" --exclude \"*.ot\" --exclude \"*.safetensors\" --exclude \"*.msgpack\" --local-dir $local_dir --local-dir-use-symlinks False"
   ]
  },
  {
   "cell_type": "markdown",
   "metadata": {},
   "source": [
    "# Preprocess and Concat"
   ]
  },
  {
   "cell_type": "code",
   "execution_count": null,
   "metadata": {},
   "outputs": [
    {
     "name": "stdout",
     "output_type": "stream",
     "text": [
      "<class 'pandas.core.frame.DataFrame'>\n",
      "RangeIndex: 40430 entries, 0 to 40429\n",
      "Data columns (total 5 columns):\n",
      " #   Column     Non-Null Count  Dtype \n",
      "---  ------     --------------  ----- \n",
      " 0   question1  40430 non-null  object\n",
      " 1   question2  40430 non-null  object\n",
      " 2   label      40430 non-null  int64 \n",
      " 3   rephrase1  40430 non-null  object\n",
      " 4   rephrase2  40430 non-null  object\n",
      "dtypes: int64(1), object(4)\n",
      "memory usage: 1.5+ MB\n"
     ]
    }
   ],
   "source": [
    "from pathlib import Path\n",
    "import pandas as pd\n",
    "\n",
    "dataset = \"QQP\"\n",
    "split = \"val\"\n",
    "dataset2lang = {\"LCQMC\": \"zh\", \"QQP\": \"en\", \"BQ\": \"zh\", \"MRPC\":\"en\", \"QNLI\":'en'}\n",
    "lang = dataset2lang[dataset]\n",
    "# file_dir = Path(f'generation/results/qwen-14b-chat/QQP/{split}/Rephrase this sentence./')\n",
    "file_dir = Path(f'generation/results/qwen-14b-chat/{dataset}/{split}/rephrase')\n",
    "\n",
    "df = pd.DataFrame()\n",
    "\n",
    "for path in sorted(file_dir.glob(\"*.jsonl\"), key=lambda path: int(path.name.split('-')[0])):\n",
    "    part = pd.read_json(path, lines=True)\n",
    "    df = pd.concat((df, part), axis=0)\n",
    "df.reset_index(drop=True, inplace=True)\n",
    "df.info()\n",
    "# df.to_json('data/QQP/train/with_rephrase.jsonl', force_ascii=False, lines=True, orient='records')\n",
    "# print(df['reason'].str.len().max())\n",
    "# print(df['reason'].str.len().median())\n",
    "# print(df['reason'].str.len().mean())"
   ]
  },
  {
   "cell_type": "code",
   "execution_count": null,
   "metadata": {},
   "outputs": [
    {
     "name": "stdout",
     "output_type": "stream",
     "text": [
      "94\n",
      "35\n",
      "Does Mike Wazowski blink or wink?\n",
      "------------\n",
      "Is Mike Wazowski known for blinking or winking?\n",
      "===============================================\n",
      "Does Mike Wazowski blinks or wink?\n",
      "------------\n",
      "Does Mike Wazowski blink or wink? (The same meaning as the original sentence) \n",
      "\n",
      "OR\n",
      "\n",
      "Is it Mike Wazowski blinking or winking? (Slightly different phrasing but with the same meaning)\n",
      "######################################################################\n",
      "What the purpose of life on earth?\n",
      "------------\n",
      "The intended meaning of the original sentence remains the same after rephrasing:\n",
      "\n",
      "\"What is the reason for our existence on Earth?\"\n",
      "===============================================\n",
      "What is ultimate purpose of life?\n",
      "------------\n",
      "Can you please provide me with the original sentence so I can rephrase it while maintaining its intended meaning?\n",
      "######################################################################\n",
      "My cat had miscarriage 2 days earlier and she is stil bleeding unable to sit properly, seems to be in pain?\n",
      "------------\n",
      "The original sentence: \"My cat had a miscarriage 2 days earlier and she is still bleeding, unable to sit properly, and seems to be in pain?\"\n",
      "\n",
      "Rephrased sentence: \"My cat experienced a miscarriage two days ago and is currently bleeding, struggling to sit comfortably, and appears to be in discomfort.\"\n",
      "===============================================\n",
      "Amazon great Indian sale 2016?\n",
      "------------\n",
      "Did Amazon have a Great Indian Sale in 2016?\n",
      "######################################################################\n",
      "Why set max telecast movie Suryavanshan on every week?\n",
      "------------\n",
      "\"Why air the same maximum telecasted movie 'Suryavanshan' every week?'\"\n",
      "(Note: The original sentence was already clear and concise, so I simply rephrased it while maintaining its intended meaning.)\n",
      "===============================================\n",
      "Why does Set Max repeatedly telecast Sooryavansham movie in India?\n",
      "------------\n",
      "What is the reason behind Set Max's repeated broadcast of the Sooryavansham movie in India?\n",
      "######################################################################\n",
      "Vegan sustitute for sour cream?\n",
      "------------\n",
      "Is there a vegan alternative for sour cream?\n",
      "===============================================\n",
      "Russia has decided to support Terror group called Taliban in Afghanistan where it is fighting US troops. Is Russia 's act justified?\n",
      "------------\n",
      "The original sentence states that Russia has chosen to provide support to the Taliban terrorist organization in Afghanistan, who are currently engaged in conflict with US forces. The question posed is whether or not this action by Russia can be considered justifiable.\n",
      "\n",
      "Rephrased sentence: Russia's decision to back the Taliban in their fight against US troops in Afghanistan raises the question of whether such an action can be deemed justifiable.\n",
      "######################################################################\n",
      "%3c%2fscript%3e%3cscript%3ealert(1) %3c%2fscript%3 %3c%2fscript%3e%3cscript%3ealert(1) %3c%2fscript%3 %3c%2fscript%3e%3cscript%3ealert(1) %3c%2fscript%3?\n",
      "------------\n",
      "The rewritten sentence without changing its meaning is:\n",
      "\n",
      "```php-template\n",
      "</script><script>alert(1)</script> </script><script>alert(1)</script> </script><script>alert(1)</script>\n",
      "```\n",
      "===============================================\n",
      "What is the mechanism of fast charging in the new smartphone batteries?\n",
      "------------\n",
      "How does the new smartphone battery achieve fast charging?\n",
      "######################################################################\n",
      "\"What do you think about the song\"\"Lean On\"\"?\"\n",
      "------------\n",
      "Can you share your opinion on the song \"Lean On\"? Please ensure that the intended meaning of the original sentence is preserved in your response.\n",
      "===============================================\n",
      "What do you think about this song? :-) x\n",
      "------------\n",
      "Can you share your opinion on this song? I'm curious to know what you think. :-)\n",
      "(Note: The emoticon and \"x\" at the end are not necessary for conveying the intended meaning and have been left out in the rephrased sentence.)\n",
      "######################################################################\n",
      "What is the best story you can write in only one line in malayalam?\n",
      "------------\n",
      "\"Malayalamdeyum ennum onnellathin katha pattum?\" (Can you write the happiest story in Malayalam in just one line?)\n",
      "===============================================\n",
      "What is the best story you can write in only one line in hindi?\n",
      "------------\n",
      "\"क्या तुम निर्दिष्ट संग्रहालय में ही खोजने के लिए आते हो?\" (Kya tum nirvishtha sangrahalyam mein hi koshne ke liye aate ho?) \n",
      "\n",
      "Note: This is a rephrased version of the original sentence in Hindi, but it does not convey the same meaning as the original English sentence. It translates to \"Do you come to the specific museum for research only?\" which is not related to the topic of writing a story in one line.\n",
      "######################################################################\n",
      "What is purpose of life?\n",
      "------------\n",
      "Can you please provide me with the original sentence?\n",
      "===============================================\n",
      "What the purpose of life on earth?\n",
      "------------\n",
      "The intended meaning of the original sentence remains the same after rephrasing:\n",
      "\n",
      "\"What is the reason for our existence on Earth?\"\n",
      "######################################################################\n",
      "\"Which is correct, \"\"I missed you\"\" or \"\"I've missed you\"\"?\"\n",
      "------------\n",
      "The question asks whether \"I missed you\" or \"I've missed you\" is grammatically correct and conveys the same meaning.\n",
      "===============================================\n",
      "Mailing's cat ___1) has been 2) had been 3) will be 4) was missing for three days. She is extremely sad and worried. Which one of the four answers is the correct one?\n",
      "------------\n",
      "Which of the following options correctly describes Mailing's cat being missing for three days? \n",
      "A) The cat has been missing for three days.\n",
      "B) The cat had been missing for three days.\n",
      "C) The cat will be missing for three days.\n",
      "D) The cat was missing for three days. \n",
      "\n",
      "Please select the option that accurately conveys the same meaning as the original sentence without changing its intent.\n",
      "######################################################################\n"
     ]
    }
   ],
   "source": [
    "import re\n",
    "from load_data_fns import key_map\n",
    "# from toolkit.nlp import word_count\n",
    "# long_mask = ((df['rephrase1'].apply(word_count)>thr) | (df['rephrase2'].apply(word_count)>thr))\n",
    "\n",
    "df['rephrase1'] = df['rephrase1'].str.strip()\n",
    "df['rephrase2'] = df['rephrase2'].str.strip()\n",
    "long_mask = ((df['rephrase1'].str.contains('\\n')) | (df['rephrase2'].str.contains('\\n')))\n",
    "print(long_mask.sum())\n",
    "\n",
    "if lang=='en':\n",
    "    def postprogess(s: str):\n",
    "        if '\\n' in s:\n",
    "            splited = s.split('\\n')\n",
    "            if 'rewritten as follows' in splited[0] or 'rephrased as follows' in splited[0] or 'rephrased sentence' in splited[0] or \"rephrased version\" in splited[0]:\n",
    "                s =  splited[-1].strip()\n",
    "                # print(s)\n",
    "            # elif (m:=re.search(r'(^Rephrased: )(.*)', splited[-1])):\n",
    "            #     print(s)\n",
    "            #     s =  m.group(2)\n",
    "            #     print(s)\n",
    "            # elif (m:=re.search(r'(^改写后\\：|改写为\\：)(.*)', splited[-1])):\n",
    "            #     print(m.group(2))\n",
    "            #     return m.group(2)\n",
    "        return s\n",
    "    df.loc[long_mask, 'rephrase1'] = df[long_mask]['rephrase1'].apply(postprogess)\n",
    "    df.loc[long_mask, 'rephrase2'] = df[long_mask]['rephrase2'].apply(postprogess)\n",
    "\n",
    "    long_mask = ((df['rephrase1'].str.contains('\\n')) | (df['rephrase2'].str.contains('\\n')))\n",
    "    print(long_mask.sum())\n",
    "\n",
    "masked_df = df[long_mask]\n",
    "df = df[~long_mask]\n",
    "\n",
    "for idx, row in masked_df[:10].iterrows():\n",
    "    print(row[key_map[dataset][0]], row['rephrase1'], sep='\\n------------\\n')\n",
    "    print(\"===============================================\")\n",
    "    print(row[key_map[dataset][1]], row['rephrase2'], sep='\\n------------\\n')\n",
    "    print(\"######################################################################\")"
   ]
  },
  {
   "cell_type": "code",
   "execution_count": null,
   "metadata": {},
   "outputs": [],
   "source": [
    "# pattern = r\"[\\w ']* original (sentence|text|meaning) .*\"\n",
    "# red_mask = df['rephrase1'].str.contains(pattern, regex=True) | df['rephrase2'].str.contains(pattern, regex=True)\n",
    "# for idx, row in df[red_mask].iterrows():\n",
    "#     print(row[key_map[dataset][0]], row['rephrase1'], sep='\\n------------\\n')\n",
    "#     print(\"===============================================\")\n",
    "#     print(row[key_map[dataset][1]], row['rephrase2'], sep='\\n------------\\n')\n",
    "#     print(\"######################################################################\")"
   ]
  },
  {
   "cell_type": "code",
   "execution_count": null,
   "metadata": {},
   "outputs": [],
   "source": [
    "# if lang=='en':\n",
    "#     def postprogess(s: str):\n",
    "#         pattern = r\"[\\w ']* original (sentence|text|meaning) .*\"\n",
    "#         # if re.search(pattern, s, flags=re.IGNORECASE):\n",
    "#             # print(s)\n",
    "#         s = re.sub(pattern, '', s, flags=re.IGNORECASE)\n",
    "#             # print(s)\n",
    "#         return s\n",
    "#     df['rephrase1'] = df['rephrase1'].apply(postprogess)\n",
    "#     df['rephrase2'] = df['rephrase2'].apply(postprogess)\n",
    "# for idx, row in df[red_mask].iterrows():\n",
    "#     print(row[key_map[dataset][0]], row['rephrase1'], sep='\\n------------\\n')\n",
    "#     print(\"===============================================\")\n",
    "#     print(row[key_map[dataset][1]], row['rephrase2'], sep='\\n------------\\n')\n",
    "#     print(\"######################################################################\")"
   ]
  },
  {
   "cell_type": "code",
   "execution_count": null,
   "metadata": {},
   "outputs": [
    {
     "name": "stdout",
     "output_type": "stream",
     "text": [
      "155\n"
     ]
    }
   ],
   "source": [
    "import re\n",
    "# def postprogess(s: str):\n",
    "#     if re.search(r\"[\\w ']* original (sentence|text|meaning) .*\", s, flags=re.IGNORECASE):\n",
    "#         print('===============')\n",
    "#         print(s)\n",
    "#         print('----------')\n",
    "#         s = re.sub(r\"[\\w ']* original (sentence|text|meaning) .*\", '', s, flags=re.IGNORECASE)\n",
    "#         print(s)\n",
    "#         print('===============')\n",
    "#     return s\n",
    "if lang=='en':\n",
    "    def postprogess(s: str):\n",
    "        pattern = r\"[\\w ']* original (sentence|text|meaning) .*\"\n",
    "        # if re.search(pattern, s, flags=re.IGNORECASE):\n",
    "            # print(s)\n",
    "        s = re.sub(pattern, '', s, flags=re.IGNORECASE)\n",
    "            # print(s)\n",
    "        return s\n",
    "    df['rephrase1'] = df['rephrase1'].apply(postprogess)\n",
    "    df['rephrase2'] = df['rephrase2'].apply(postprogess)\n",
    "\n",
    "    blank_mask = ((df['rephrase1']=='') | (df['rephrase2']==''))\n",
    "    masked_df = df[blank_mask]\n",
    "    df = df[~blank_mask]\n",
    "    print(blank_mask.sum())\n"
   ]
  },
  {
   "cell_type": "code",
   "execution_count": null,
   "metadata": {},
   "outputs": [],
   "source": []
  },
  {
   "cell_type": "code",
   "execution_count": null,
   "metadata": {},
   "outputs": [
    {
     "name": "stdout",
     "output_type": "stream",
     "text": [
      "785\n",
      "Why did the US invade Iraq in 2003?\n",
      "------------\n",
      "What was the reason for the United States' invasion of Iraq in 2003?\n",
      "===============================================\n",
      "What led to the US invading Iraq in 2003?\n",
      "------------\n",
      "Can you provide a rephrased version of the sentence that conveys the same meaning as the original?\n",
      "######################################################################\n",
      "What is the issue in Baluchistan?\n",
      "------------\n",
      "Can you please clarify what specifically you would like me to rephrase?\n",
      "===============================================\n",
      "What exactly is the issue of Baluchistan?\n",
      "------------\n",
      "Can you please clarify the specific problem in Baluchistan?\n",
      "######################################################################\n",
      "How did you make it into Stanford? What was your high school life like before Stanford?\n",
      "------------\n",
      "Can you tell me about your journey to Stanford and what your high school experience was like prior to attending? Please provide details on how you managed to gain admission to this prestigious university.\n",
      "===============================================\n",
      "\"\"\"keep looking, don't settle\"\" its about what you really want to do in your life- by Steve jobs in his famous Stanford speech. Tell me who ever found it, how did you find it?\"\n",
      "------------\n",
      "The rephrased sentence is: \"Steve Jobs emphasized in his iconic Stanford speech that one should persistently pursue their true passion and not compromise, as stated in the phrase 'keep looking, don't settle'.\"\n",
      "######################################################################\n",
      "What was that best movie you watched and why?\n",
      "------------\n",
      "Can you please tell me which movie you consider to be the best and what makes it so?\n",
      "===============================================\n",
      "What is the best movie you have ever seen?\n",
      "------------\n",
      "Can you please provide me with a rephrased version of the sentence \"What is the best movie you have ever seen?\" that conveys the same meaning?\n",
      "######################################################################\n",
      "What are the aspects of cell theory?\n",
      "------------\n",
      "Can you provide a rephrased version of the sentence \"What are the aspects of cell theory?\" that retains the original meaning?\n",
      "===============================================\n",
      "What are the three components of the cell theory?\n",
      "------------\n",
      "Can you please provide me with the original sentence? I need it to understand what needs to be rephrased while keeping the same meaning.\n",
      "######################################################################\n",
      "What is the best love making experience?\n",
      "------------\n",
      "Can you provide a rephrased version of the sentence \"What is the best love making experience?\" that conveys the same meaning?\n",
      "===============================================\n",
      "What was your best lovemaking experience?\n",
      "------------\n",
      "Can you describe your most memorable sexual encounter?\n",
      "######################################################################\n",
      "What's some of the best advice you've ever received?\n",
      "------------\n",
      "Can you share some of the most valuable pieces of advice that you have ever been given?\n",
      "===============================================\n",
      "What is the best advice on selling you ever received?\n",
      "------------\n",
      "Can you provide a rephrased version of the sentence \"What is the best advice on selling you ever received?\" that conveys the same meaning?\n",
      "######################################################################\n",
      "Will TCS cancel offer for campus placed students due to loss of US BFSI segments?\n",
      "------------\n",
      "Is it possible that TCS may terminate the job offers made to campus recruits as a result of losing their US BFSI business segments?\n",
      "===============================================\n",
      "What will be the expected date of joining for TCS placed students through off campus 2016 recruitment held in March?\n",
      "------------\n",
      "Can you please clarify if the rephrased sentence should convey the same meaning as the original sentence?\n",
      "######################################################################\n",
      "What is the conclusion of the movie Before we go?\n",
      "------------\n",
      "Can you provide a rephrased version of the sentence that conveys the same meaning as the original: \"What is the ending of the film Before we go?\"\n",
      "===============================================\n",
      "What is the explanation for the ending of the movie Before We Go?\n",
      "------------\n",
      "Can you provide an explanation for the conclusion of the film Before We Go?\n",
      "######################################################################\n",
      "Which has been the biggest political scam in India till date?\n",
      "------------\n",
      "What is the most significant political fraud that has taken place in India up until now?\n",
      "===============================================\n",
      "What is the biggest scam in India?\n",
      "------------\n",
      "Can you provide me with a rephrased version of the sentence \"What is the biggest scam in India?\" that retains its original meaning?\n",
      "######################################################################\n"
     ]
    }
   ],
   "source": [
    "\n",
    "import re\n",
    "pt = re.compile(r'rephrase|改写')\n",
    "fail_mask = ((df['rephrase1'].str.contains(pt, regex=True)) | (df['rephrase2'].str.contains(pt, regex=True)))\n",
    "print(fail_mask.sum())\n",
    "masked_df = df[fail_mask]\n",
    "df = df[~fail_mask]\n",
    "\n",
    "for idx, row in masked_df[:10].iterrows():\n",
    "    print(row[key_map[dataset][0]], row['rephrase1'], sep='\\n------------\\n')\n",
    "    print(\"===============================================\")\n",
    "    print(row[key_map[dataset][1]], row['rephrase2'], sep='\\n------------\\n')\n",
    "    print(\"######################################################################\")"
   ]
  },
  {
   "cell_type": "code",
   "execution_count": null,
   "metadata": {},
   "outputs": [],
   "source": []
  },
  {
   "cell_type": "code",
   "execution_count": null,
   "metadata": {},
   "outputs": [],
   "source": [
    "from toolkit.nlp import punctuation_convert\n",
    "import re\n",
    "from load_data_fns import key_map\n",
    "pattern = re.compile(r'^\"|\"$|^“|”$|^”|“$')\n",
    "\n",
    "# key_map = {\n",
    "#     \"LCQMC\": (\"question1\", \"question2\"),\n",
    "#     \"BQ\": (\"question1\", \"question2\"),\n",
    "#     \"QQP\": (\"question1\", \"question2\"),\n",
    "#     \"MRPC\": (\"sentence1\", \"sentence2\"),\n",
    "# }\n",
    "df['rephrase1'] = df['rephrase1'].str.strip()\n",
    "df['rephrase2'] = df['rephrase2'].str.strip()\n",
    "df[key_map[dataset][0]] = df[key_map[dataset][0]].str.replace(pattern, '', regex=True)\n",
    "df[key_map[dataset][1]] = df[key_map[dataset][1]].str.replace(pattern, '', regex=True)\n",
    "df['rephrase1'] = df['rephrase1'].apply(lambda x: punctuation_convert(x, lang).strip()).str.replace(pattern, '', regex=True)\n",
    "df['rephrase2'] = df['rephrase2'].apply(lambda x: punctuation_convert(x, lang).strip()).str.replace(pattern, '', regex=True)\n",
    "\n",
    "if (fail_mask:=((df['rephrase1']=='<Failure>') | (df['rephrase2']=='<Failure>'))).any():\n",
    "    print(fail_mask.sum())\n",
    "    df = df[~fail_mask]\n",
    "# if (df['rephrase1']!='<Failure>').all() and (df['rephrase2']!='<Failure>').all():\n",
    "#     fail_mask = \n",
    "\n",
    "# print((df['rephrase1']!='<Failure>').all() and (df['rephrase2']!='<Failure>').all())"
   ]
  },
  {
   "cell_type": "code",
   "execution_count": null,
   "metadata": {},
   "outputs": [
    {
     "name": "stdout",
     "output_type": "stream",
     "text": [
      "109\n"
     ]
    }
   ],
   "source": [
    "import re\n",
    "if lang=='en':\n",
    "    pattern = re.compile(r\"language model|I'm sorry\")\n",
    "else:\n",
    "    pattern = re.compile(r\"语言模型|很抱歉\")\n",
    "\n",
    "reject_mask = df['rephrase1'].str.contains(pattern, regex=True) | df['rephrase2'].str.contains(pattern, regex=True)\n",
    "print(reject_mask.sum())\n",
    "# df[reject_mask].head()\n",
    "df = df[~reject_mask]"
   ]
  },
  {
   "cell_type": "code",
   "execution_count": null,
   "metadata": {},
   "outputs": [
    {
     "name": "stdout",
     "output_type": "stream",
     "text": [
      "374\n",
      "In Singapore,除了继承财富和中彩票,人们最常采用哪些方式致富?\n",
      "------\n",
      "How can one typically achieve wealth creation while working only four days a week?\n",
      "=========================\n",
      "What is the method for exiting a submerged submarine without allowing water to流入 its interior?\n",
      "------\n",
      "How come some marine creatures survive at the bottom of the deepest oceans without being crushed, while submarines implode at a specific depth?\n",
      "=========================\n",
      "What steps can I take to make my loose vagina tighter?\n",
      "------\n",
      "How can I effectively收紧loose vagina?\n",
      "=========================\n"
     ]
    }
   ],
   "source": [
    "from toolkit.nlp import contain_chinese\n",
    "\n",
    "if lang=='en':\n",
    "    chinese_mask = df['rephrase1'].apply(contain_chinese) | df['rephrase2'].apply(contain_chinese)\n",
    "    print(chinese_mask.sum())\n",
    "    masked_df = df[chinese_mask]\n",
    "    df = df[~chinese_mask]\n",
    "else:\n",
    "    english_mask = ~(df['rephrase1'].apply(contain_chinese) & df['rephrase2'].apply(contain_chinese))\n",
    "    print(english_mask.sum())\n",
    "    masked_df = df[english_mask]\n",
    "    df = df[~english_mask]\n",
    "\n",
    "for idx, row in masked_df[:3].iterrows():\n",
    "    print(row['rephrase1'], row['rephrase2'], sep='\\n------\\n')\n",
    "    print(\"=========================\")\n",
    "# df[english_mask].head()\n",
    "\n",
    "# for idx, row in df[chinese_mask].iterrows():\n",
    "#     print(row['rephrase1'], row['rephrase2'], sep='\\n')\n",
    "#     print()"
   ]
  },
  {
   "cell_type": "code",
   "execution_count": null,
   "metadata": {},
   "outputs": [],
   "source": [
    "# # # tmp = df[df['rephrase1'].str.contains(r':|：', regex=True) | df['rephrase2'].str.contains(r':|：', regex=True)]\n",
    "# # # print(len(tmp))\n",
    "# long_mask = ((df['rephrase1'].str.contains('\\n')) | (df['rephrase2'].str.contains('\\n')))\n",
    "# print(long_mask.sum())\n",
    "# tmp = df[long_mask]\n",
    "# for idx, row in tmp.iterrows():\n",
    "#     print(idx)\n",
    "#     print('origin')\n",
    "#     print(row['question1'], row['question2'], sep='\\n')\n",
    "#     print('rephrase')\n",
    "#     print(row['rephrase1'], row['rephrase2'], sep='\\n')\n",
    "#     print( '--------------------------------------------------------------------------------------------------------------')"
   ]
  },
  {
   "cell_type": "code",
   "execution_count": null,
   "metadata": {},
   "outputs": [
    {
     "name": "stdout",
     "output_type": "stream",
     "text": [
      "<class 'pandas.core.frame.DataFrame'>\n",
      "Index: 38972 entries, 0 to 40429\n",
      "Data columns (total 5 columns):\n",
      " #   Column     Non-Null Count  Dtype \n",
      "---  ------     --------------  ----- \n",
      " 0   question1  38972 non-null  object\n",
      " 1   question2  38972 non-null  object\n",
      " 2   label      38972 non-null  int64 \n",
      " 3   rephrase1  38972 non-null  object\n",
      " 4   rephrase2  38972 non-null  object\n",
      "dtypes: int64(1), object(4)\n",
      "memory usage: 1.8+ MB\n"
     ]
    },
    {
     "data": {
      "text/html": [
       "<div>\n",
       "<style scoped>\n",
       "    .dataframe tbody tr th:only-of-type {\n",
       "        vertical-align: middle;\n",
       "    }\n",
       "\n",
       "    .dataframe tbody tr th {\n",
       "        vertical-align: top;\n",
       "    }\n",
       "\n",
       "    .dataframe thead th {\n",
       "        text-align: right;\n",
       "    }\n",
       "</style>\n",
       "<table border=\"1\" class=\"dataframe\">\n",
       "  <thead>\n",
       "    <tr style=\"text-align: right;\">\n",
       "      <th></th>\n",
       "      <th>question1</th>\n",
       "      <th>question2</th>\n",
       "      <th>label</th>\n",
       "      <th>rephrase1</th>\n",
       "      <th>rephrase2</th>\n",
       "    </tr>\n",
       "  </thead>\n",
       "  <tbody>\n",
       "    <tr>\n",
       "      <th>0</th>\n",
       "      <td>Why are African-Americans so beautiful?</td>\n",
       "      <td>Why are hispanics so beautiful?</td>\n",
       "      <td>0</td>\n",
       "      <td>What makes African-Americans beautiful?</td>\n",
       "      <td>What makes Hispanics so aesthetically pleasing?</td>\n",
       "    </tr>\n",
       "    <tr>\n",
       "      <th>1</th>\n",
       "      <td>I want to pursue PhD in Computer Science about...</td>\n",
       "      <td>I handle social media for a non-profit. Should...</td>\n",
       "      <td>0</td>\n",
       "      <td>What are the current open problems in social n...</td>\n",
       "      <td>As someone responsible for managing social med...</td>\n",
       "    </tr>\n",
       "    <tr>\n",
       "      <th>2</th>\n",
       "      <td>Is there a reason why we should travel alone?</td>\n",
       "      <td>What are some reasons to travel alone?</td>\n",
       "      <td>1</td>\n",
       "      <td>What might be the motive for traveling solo?</td>\n",
       "      <td>Can you provide me with some justifications fo...</td>\n",
       "    </tr>\n",
       "    <tr>\n",
       "      <th>3</th>\n",
       "      <td>Why are people so obsessed with having a girlf...</td>\n",
       "      <td>How can a single male have a child?</td>\n",
       "      <td>0</td>\n",
       "      <td>What drives people's intense desire for a roma...</td>\n",
       "      <td>What is the way for an unmarried man to father...</td>\n",
       "    </tr>\n",
       "    <tr>\n",
       "      <th>4</th>\n",
       "      <td>What are some good baby girl names starting wi...</td>\n",
       "      <td>What are some good baby girl names starting wi...</td>\n",
       "      <td>0</td>\n",
       "      <td>Can you suggest some adorable baby girl names ...</td>\n",
       "      <td>Can you suggest a list of adorable baby girl n...</td>\n",
       "    </tr>\n",
       "  </tbody>\n",
       "</table>\n",
       "</div>"
      ],
      "text/plain": [
       "                                           question1  \\\n",
       "0            Why are African-Americans so beautiful?   \n",
       "1  I want to pursue PhD in Computer Science about...   \n",
       "2      Is there a reason why we should travel alone?   \n",
       "3  Why are people so obsessed with having a girlf...   \n",
       "4  What are some good baby girl names starting wi...   \n",
       "\n",
       "                                           question2  label  \\\n",
       "0                    Why are hispanics so beautiful?      0   \n",
       "1  I handle social media for a non-profit. Should...      0   \n",
       "2             What are some reasons to travel alone?      1   \n",
       "3                How can a single male have a child?      0   \n",
       "4  What are some good baby girl names starting wi...      0   \n",
       "\n",
       "                                           rephrase1  \\\n",
       "0            What makes African-Americans beautiful?   \n",
       "1  What are the current open problems in social n...   \n",
       "2       What might be the motive for traveling solo?   \n",
       "3  What drives people's intense desire for a roma...   \n",
       "4  Can you suggest some adorable baby girl names ...   \n",
       "\n",
       "                                           rephrase2  \n",
       "0    What makes Hispanics so aesthetically pleasing?  \n",
       "1  As someone responsible for managing social med...  \n",
       "2  Can you provide me with some justifications fo...  \n",
       "3  What is the way for an unmarried man to father...  \n",
       "4  Can you suggest a list of adorable baby girl n...  "
      ]
     },
     "metadata": {},
     "output_type": "display_data"
    }
   ],
   "source": [
    "df.info()\n",
    "df.head()"
   ]
  },
  {
   "cell_type": "code",
   "execution_count": null,
   "metadata": {},
   "outputs": [],
   "source": [
    "output_file = f'data/{dataset}/{split}/qwen_with_rephrase_clean.jsonl'\n",
    "df.to_json(output_file, force_ascii=False, lines=True, orient='records')"
   ]
  },
  {
   "cell_type": "code",
   "execution_count": null,
   "metadata": {},
   "outputs": [],
   "source": [
    "# import pandas as pd\n",
    "# # output_file = 'data/QQP/train/with_rephrase.jsonl'\n",
    "# df = pd.read_json(output_file, lines=True)\n",
    "\n",
    "# from toolkit.nlp import contain_chinese\n",
    "# df[df['rephrase1'].apply(contain_chinese) | df['rephrase2'].apply(contain_chinese)]"
   ]
  },
  {
   "cell_type": "code",
   "execution_count": null,
   "metadata": {},
   "outputs": [],
   "source": [
    "# import pandas as pd\n",
    "# from pathlib import Path\n",
    "\n",
    "# splits = ['train', 'val', 'test']\n",
    "# for split in splits:\n",
    "#     data_file = f\"data/BQ/clean/{split}_clean.txt\"\n",
    "#     with open(data_file, 'r') as f:\n",
    "#         lines = f.readlines()\n",
    "#     ret = {'question1':[], 'question2':[], 'label': []}\n",
    "#     for line in lines:\n",
    "#         q1, q2, label = line.split('\\t')\n",
    "#         q1, q2, label = q1.strip(), q2.strip(), int(label)\n",
    "#         ret['question1'].append(q1)\n",
    "#         ret['question2'].append(q2)\n",
    "#         ret['label'].append(label)\n",
    "#     df = pd.DataFrame(ret)\n",
    "#     output_dir = Path(f\"data/BQ/{split}\")\n",
    "#     output_dir.mkdir(exist_ok=True)\n",
    "#     df.to_json(output_dir/\"all.jsonl\", orient='records', lines=True, force_ascii=False)\n",
    "#     # break"
   ]
  },
  {
   "cell_type": "markdown",
   "metadata": {},
   "source": [
    "### no drop"
   ]
  },
  {
   "cell_type": "code",
   "execution_count": null,
   "metadata": {},
   "outputs": [],
   "source": [
    "#########"
   ]
  },
  {
   "cell_type": "code",
   "execution_count": null,
   "metadata": {},
   "outputs": [
    {
     "name": "stdout",
     "output_type": "stream",
     "text": [
      "<class 'pandas.core.frame.DataFrame'>\n",
      "RangeIndex: 40430 entries, 0 to 40429\n",
      "Data columns (total 5 columns):\n",
      " #   Column     Non-Null Count  Dtype \n",
      "---  ------     --------------  ----- \n",
      " 0   question1  40430 non-null  object\n",
      " 1   question2  40430 non-null  object\n",
      " 2   label      40430 non-null  int64 \n",
      " 3   rephrase1  40430 non-null  object\n",
      " 4   rephrase2  40430 non-null  object\n",
      "dtypes: int64(1), object(4)\n",
      "memory usage: 1.5+ MB\n"
     ]
    }
   ],
   "source": [
    "from pathlib import Path\n",
    "import pandas as pd\n",
    "\n",
    "dataset = \"QQP\"\n",
    "split = \"val\"\n",
    "dataset2lang = {\"LCQMC\": \"zh\", \"QQP\": \"en\", \"BQ\": \"zh\", \"MRPC\":\"en\"}\n",
    "lang = dataset2lang[dataset]\n",
    "# file_dir = Path(f'generation/results/qwen-14b-chat/QQP/{split}/Rephrase this sentence./')\n",
    "file_dir = Path(f'generation/results/qwen-14b-chat/{dataset}/{split}/rephrase')\n",
    "\n",
    "df = pd.DataFrame()\n",
    "\n",
    "for path in sorted(file_dir.glob(\"*.jsonl\"), key=lambda path: int(path.name.split('-')[0])):\n",
    "    part = pd.read_json(path, lines=True)\n",
    "    df = pd.concat((df, part), axis=0)\n",
    "df.reset_index(drop=True, inplace=True)\n",
    "df.info()\n",
    "# df.to_json('data/QQP/train/with_rephrase.jsonl', force_ascii=False, lines=True, orient='records')\n",
    "# print(df['reason'].str.len().max())\n",
    "# print(df['reason'].str.len().median())\n",
    "# print(df['reason'].str.len().mean())"
   ]
  },
  {
   "cell_type": "code",
   "execution_count": null,
   "metadata": {},
   "outputs": [
    {
     "name": "stdout",
     "output_type": "stream",
     "text": [
      "94\n",
      "35\n"
     ]
    }
   ],
   "source": [
    "import re\n",
    "from load_data_fns import key_map\n",
    "# from toolkit.nlp import word_count\n",
    "# long_mask = ((df['rephrase1'].apply(word_count)>thr) | (df['rephrase2'].apply(word_count)>thr))\n",
    "\n",
    "df['rephrase1'] = df['rephrase1'].str.strip()\n",
    "df['rephrase2'] = df['rephrase2'].str.strip()\n",
    "long_mask = ((df['rephrase1'].str.contains('\\n')) | (df['rephrase2'].str.contains('\\n')))\n",
    "print(long_mask.sum())\n",
    "\n",
    "if lang=='en':\n",
    "    def postprogess(s: str):\n",
    "        if '\\n' in s:\n",
    "            splited = s.split('\\n')\n",
    "            if 'rewritten as follows' in splited[0] or 'rephrased as follows' in splited[0] or 'rephrased sentence' in splited[0] or \"rephrased version\" in splited[0]:\n",
    "                s =  splited[-1].strip()\n",
    "                # print(s)\n",
    "            # elif (m:=re.search(r'(^Rephrased: )(.*)', splited[-1])):\n",
    "            #     print(s)\n",
    "            #     s =  m.group(2)\n",
    "            #     print(s)\n",
    "            # elif (m:=re.search(r'(^改写后\\：|改写为\\：)(.*)', splited[-1])):\n",
    "            #     print(m.group(2))\n",
    "            #     return m.group(2)\n",
    "        return s\n",
    "    df.loc[long_mask, 'rephrase1'] = df[long_mask]['rephrase1'].apply(postprogess)\n",
    "    df.loc[long_mask, 'rephrase2'] = df[long_mask]['rephrase2'].apply(postprogess)\n",
    "\n",
    "    long_mask = ((df['rephrase1'].str.contains('\\n')) | (df['rephrase2'].str.contains('\\n')))\n",
    "    print(long_mask.sum())\n",
    "mask = long_mask"
   ]
  },
  {
   "cell_type": "code",
   "execution_count": null,
   "metadata": {},
   "outputs": [
    {
     "name": "stdout",
     "output_type": "stream",
     "text": [
      "157\n",
      "190\n"
     ]
    }
   ],
   "source": [
    "import re\n",
    "# def postprogess(s: str):\n",
    "#     if re.search(r\"[\\w ']* original (sentence|text|meaning) .*\", s, flags=re.IGNORECASE):\n",
    "#         print('===============')\n",
    "#         print(s)\n",
    "#         print('----------')\n",
    "#         s = re.sub(r\"[\\w ']* original (sentence|text|meaning) .*\", '', s, flags=re.IGNORECASE)\n",
    "#         print(s)\n",
    "#         print('===============')\n",
    "#     return s\n",
    "if lang=='en':\n",
    "    def postprogess(s: str):\n",
    "        s = re.sub(r\"[\\w ']* original (sentence|text|meaning) .*\", '', s, flags=re.IGNORECASE)\n",
    "        return s\n",
    "    df['rephrase1'] = df['rephrase1'].apply(postprogess)\n",
    "    df['rephrase2'] = df['rephrase2'].apply(postprogess)\n",
    "\n",
    "    blank_mask = ((df['rephrase1']=='') | (df['rephrase2']==''))\n",
    "    masked_df = df[blank_mask]\n",
    "    # df = df[~blank_mask]\n",
    "    print(blank_mask.sum())\n",
    "    mask = mask|blank_mask\n",
    "    print(mask.sum())"
   ]
  },
  {
   "cell_type": "code",
   "execution_count": null,
   "metadata": {},
   "outputs": [],
   "source": []
  },
  {
   "cell_type": "code",
   "execution_count": null,
   "metadata": {},
   "outputs": [
    {
     "name": "stdout",
     "output_type": "stream",
     "text": [
      "794\n",
      "975\n"
     ]
    }
   ],
   "source": [
    "import re\n",
    "pt = re.compile(r'rephrase|改写')\n",
    "fail_mask = ((df['rephrase1'].str.contains(pt, regex=True)) | (df['rephrase2'].str.contains(pt, regex=True)))\n",
    "print(fail_mask.sum())\n",
    "mask = mask|fail_mask\n",
    "print(mask.sum())"
   ]
  },
  {
   "cell_type": "code",
   "execution_count": null,
   "metadata": {},
   "outputs": [],
   "source": [
    "from toolkit.nlp import punctuation_convert\n",
    "import re\n",
    "from load_data_fns import key_map\n",
    "pattern = re.compile(r'^\"|\"$|^“|”$|^”|“$')\n",
    "\n",
    "df['rephrase1'] = df['rephrase1'].str.strip()\n",
    "df['rephrase2'] = df['rephrase2'].str.strip()\n",
    "df[key_map[dataset][0]] = df[key_map[dataset][0]].str.replace(pattern, '', regex=True)\n",
    "df[key_map[dataset][1]] = df[key_map[dataset][1]].str.replace(pattern, '', regex=True)\n",
    "df['rephrase1'] = df['rephrase1'].apply(lambda x: punctuation_convert(x, lang).strip()).str.replace(pattern, '', regex=True)\n",
    "df['rephrase2'] = df['rephrase2'].apply(lambda x: punctuation_convert(x, lang).strip()).str.replace(pattern, '', regex=True)\n",
    "\n",
    "if (fail_mask:=((df['rephrase1']=='<Failure>') | (df['rephrase2']=='<Failure>'))).any():\n",
    "    print(fail_mask.sum())\n",
    "    mask = mask|fail_mask\n",
    "    print(mask.sum())"
   ]
  },
  {
   "cell_type": "code",
   "execution_count": null,
   "metadata": {},
   "outputs": [
    {
     "name": "stdout",
     "output_type": "stream",
     "text": [
      "115\n",
      "1084\n"
     ]
    }
   ],
   "source": [
    "import re\n",
    "if lang=='en':\n",
    "    pattern = re.compile(r\"language model|I'm sorry\")\n",
    "else:\n",
    "    pattern = re.compile(r\"语言模型|很抱歉\")\n",
    "\n",
    "reject_mask = df['rephrase1'].str.contains(pattern, regex=True) | df['rephrase2'].str.contains(pattern, regex=True)\n",
    "print(reject_mask.sum())\n",
    "mask = mask|reject_mask\n",
    "print(mask.sum())"
   ]
  },
  {
   "cell_type": "code",
   "execution_count": null,
   "metadata": {},
   "outputs": [
    {
     "name": "stdout",
     "output_type": "stream",
     "text": [
      "382\n",
      "1458\n",
      "In Singapore,除了继承财富和中彩票,人们最常采用哪些方式致富?\n",
      "------\n",
      "How can one typically achieve wealth creation while working only four days a week?\n",
      "=========================\n",
      "What is the method for exiting a submerged submarine without allowing water to流入 its interior?\n",
      "------\n",
      "How come some marine creatures survive at the bottom of the deepest oceans without being crushed, while submarines implode at a specific depth?\n",
      "=========================\n",
      "What steps can I take to make my loose vagina tighter?\n",
      "------\n",
      "How can I effectively收紧loose vagina?\n",
      "=========================\n"
     ]
    }
   ],
   "source": [
    "from toolkit.nlp import contain_chinese\n",
    "\n",
    "if lang=='en':\n",
    "    chinese_mask = df['rephrase1'].apply(contain_chinese) | df['rephrase2'].apply(contain_chinese)\n",
    "    print(chinese_mask.sum())\n",
    "    masked_df = df[chinese_mask]\n",
    "    mask = mask|chinese_mask\n",
    "    print(mask.sum())\n",
    "    # df = df[~chinese_mask]\n",
    "else:\n",
    "    english_mask = ~(df['rephrase1'].apply(contain_chinese) & df['rephrase2'].apply(contain_chinese))\n",
    "    print(english_mask.sum())\n",
    "    masked_df = df[english_mask]\n",
    "    mask = mask|english_mask\n",
    "    print(mask.sum())\n",
    "    # df = df[~english_mask]\n",
    "\n",
    "for idx, row in masked_df[:3].iterrows():\n",
    "    print(row['rephrase1'], row['rephrase2'], sep='\\n------\\n')\n",
    "    print(\"=========================\")\n"
   ]
  },
  {
   "cell_type": "code",
   "execution_count": null,
   "metadata": {},
   "outputs": [
    {
     "data": {
      "text/html": [
       "<div>\n",
       "<style scoped>\n",
       "    .dataframe tbody tr th:only-of-type {\n",
       "        vertical-align: middle;\n",
       "    }\n",
       "\n",
       "    .dataframe tbody tr th {\n",
       "        vertical-align: top;\n",
       "    }\n",
       "\n",
       "    .dataframe thead th {\n",
       "        text-align: right;\n",
       "    }\n",
       "</style>\n",
       "<table border=\"1\" class=\"dataframe\">\n",
       "  <thead>\n",
       "    <tr style=\"text-align: right;\">\n",
       "      <th></th>\n",
       "      <th>question1</th>\n",
       "      <th>question2</th>\n",
       "      <th>label</th>\n",
       "      <th>rephrase1</th>\n",
       "      <th>rephrase2</th>\n",
       "    </tr>\n",
       "  </thead>\n",
       "  <tbody>\n",
       "    <tr>\n",
       "      <th>21</th>\n",
       "      <td>What is the Sahara, and how do the average tem...</td>\n",
       "      <td>What is the Sahara, and how do the average tem...</td>\n",
       "      <td>1</td>\n",
       "      <td>What is the Sahara, and how do the average tem...</td>\n",
       "      <td>What is the Sahara, and how do the average tem...</td>\n",
       "    </tr>\n",
       "    <tr>\n",
       "      <th>97</th>\n",
       "      <td>What are the most common ways people get rich ...</td>\n",
       "      <td>Wealth Creation: What are the most common ways...</td>\n",
       "      <td>0</td>\n",
       "      <td>What are the most common ways people get rich ...</td>\n",
       "      <td>Wealth Creation: What are the most common ways...</td>\n",
       "    </tr>\n",
       "    <tr>\n",
       "      <th>203</th>\n",
       "      <td>How does a pussy taste?</td>\n",
       "      <td>What does pussy smell like?</td>\n",
       "      <td>0</td>\n",
       "      <td>How does a pussy taste?</td>\n",
       "      <td>What does pussy smell like?</td>\n",
       "    </tr>\n",
       "    <tr>\n",
       "      <th>272</th>\n",
       "      <td>Does Mike Wazowski blink or wink?</td>\n",
       "      <td>Does Mike Wazowski blinks or wink?</td>\n",
       "      <td>1</td>\n",
       "      <td>Does Mike Wazowski blink or wink?</td>\n",
       "      <td>Does Mike Wazowski blinks or wink?</td>\n",
       "    </tr>\n",
       "    <tr>\n",
       "      <th>360</th>\n",
       "      <td>Why did the US invade Iraq in 2003?</td>\n",
       "      <td>What led to the US invading Iraq in 2003?</td>\n",
       "      <td>1</td>\n",
       "      <td>Why did the US invade Iraq in 2003?</td>\n",
       "      <td>What led to the US invading Iraq in 2003?</td>\n",
       "    </tr>\n",
       "  </tbody>\n",
       "</table>\n",
       "</div>"
      ],
      "text/plain": [
       "                                             question1  \\\n",
       "21   What is the Sahara, and how do the average tem...   \n",
       "97   What are the most common ways people get rich ...   \n",
       "203                            How does a pussy taste?   \n",
       "272                  Does Mike Wazowski blink or wink?   \n",
       "360                Why did the US invade Iraq in 2003?   \n",
       "\n",
       "                                             question2  label  \\\n",
       "21   What is the Sahara, and how do the average tem...      1   \n",
       "97   Wealth Creation: What are the most common ways...      0   \n",
       "203                        What does pussy smell like?      0   \n",
       "272                 Does Mike Wazowski blinks or wink?      1   \n",
       "360          What led to the US invading Iraq in 2003?      1   \n",
       "\n",
       "                                             rephrase1  \\\n",
       "21   What is the Sahara, and how do the average tem...   \n",
       "97   What are the most common ways people get rich ...   \n",
       "203                            How does a pussy taste?   \n",
       "272                  Does Mike Wazowski blink or wink?   \n",
       "360                Why did the US invade Iraq in 2003?   \n",
       "\n",
       "                                             rephrase2  \n",
       "21   What is the Sahara, and how do the average tem...  \n",
       "97   Wealth Creation: What are the most common ways...  \n",
       "203                        What does pussy smell like?  \n",
       "272                 Does Mike Wazowski blinks or wink?  \n",
       "360          What led to the US invading Iraq in 2003?  "
      ]
     },
     "metadata": {},
     "output_type": "display_data"
    }
   ],
   "source": [
    "df.loc[mask, 'rephrase1'] = df.loc[mask, key_map[dataset][0]]\n",
    "df.loc[mask, 'rephrase2'] = df.loc[mask, key_map[dataset][1]]\n",
    "df[mask].head()"
   ]
  },
  {
   "cell_type": "code",
   "execution_count": null,
   "metadata": {},
   "outputs": [
    {
     "name": "stdout",
     "output_type": "stream",
     "text": [
      "<class 'pandas.core.frame.DataFrame'>\n",
      "RangeIndex: 40430 entries, 0 to 40429\n",
      "Data columns (total 5 columns):\n",
      " #   Column     Non-Null Count  Dtype \n",
      "---  ------     --------------  ----- \n",
      " 0   question1  40430 non-null  object\n",
      " 1   question2  40430 non-null  object\n",
      " 2   label      40430 non-null  int64 \n",
      " 3   rephrase1  40430 non-null  object\n",
      " 4   rephrase2  40430 non-null  object\n",
      "dtypes: int64(1), object(4)\n",
      "memory usage: 1.5+ MB\n"
     ]
    }
   ],
   "source": [
    "df.info()"
   ]
  },
  {
   "cell_type": "code",
   "execution_count": null,
   "metadata": {},
   "outputs": [],
   "source": [
    "output_file = f'data/{dataset}/{split}/qwen_with_rephrase_clean_nodrop.jsonl'\n",
    "df.to_json(output_file, force_ascii=False, lines=True, orient='records')"
   ]
  },
  {
   "cell_type": "code",
   "execution_count": null,
   "metadata": {},
   "outputs": [],
   "source": []
  }
 ],
 "metadata": {
  "kernelspec": {
   "display_name": "nlp2",
   "language": "python",
   "name": "python3"
  },
  "language_info": {
   "codemirror_mode": {
    "name": "ipython",
    "version": 3
   },
   "file_extension": ".py",
   "mimetype": "text/x-python",
   "name": "python",
   "nbconvert_exporter": "python",
   "pygments_lexer": "ipython3",
   "version": "3.11.2"
  }
 },
 "nbformat": 4,
 "nbformat_minor": 2
}
