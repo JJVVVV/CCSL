{
 "cells": [
  {
   "cell_type": "markdown",
   "metadata": {},
   "source": [
    "# Dev set"
   ]
  },
  {
   "cell_type": "code",
   "execution_count": 28,
   "metadata": {},
   "outputs": [
    {
     "name": "stdout",
     "output_type": "stream",
     "text": [
      "2023-08-24 18:40:19,034\u001b[32m <INFO> Configuration: 👻 Custom attributes:\u001b[0m\n",
      "2023-08-24 18:40:19,035\u001b[32m <INFO> Configuration:    text_type=ORI\u001b[0m\n",
      "2023-08-24 18:40:19,036\u001b[32m <INFO> Configuration:    part=all\u001b[0m\n",
      "2023-08-24 18:40:19,037\u001b[32m <INFO> Configuration:    min_threshold=True\u001b[0m\n",
      "2023-08-24 18:40:19,687 <DEBUG> TextDataset: ⏳ Loading VALIDATION dataset ...\u001b[0m\n",
      "2023-08-24 18:40:19,688 <DEBUG> TextDataset: 💿 Loading dataset from cache ...\u001b[0m\n",
      "2023-08-24 18:40:20,114 <DEBUG> TextDataset: ✔️  Load successfully.\u001b[0m\n",
      "2023-08-24 18:40:20,114 <DEBUG> TextDataset: ⌛ Loading VALIDATION data takes 0.43 sec.\u001b[0m\n",
      "2023-08-24 18:40:20,115\u001b[32m <INFO> TextDataset: Total data: 40430\u001b[0m\n",
      "2023-08-24 18:40:20,116\u001b[32m <INFO> TextDataset: Max length of input: 191\u001b[0m\n",
      "2023-08-24 18:40:20,116\u001b[32m <INFO> TextDataset: Max length of label: 1\u001b[0m\n",
      "2023-08-24 18:40:20,117\u001b[32m <INFO> TextDataset: Total data: 40430\u001b[0m\n",
      "2023-08-24 18:40:20,118\u001b[32m <INFO> TextDataset: Max length of input: 191\u001b[0m\n",
      "2023-08-24 18:40:20,118\u001b[32m <INFO> TextDataset: Max length of label: 1\u001b[0m\n"
     ]
    }
   ],
   "source": [
    "from load_data_fns import LOAD_DATA_FNS, DatasetName, TextType\n",
    "\n",
    "# from torch.utils.data import DataLoader\n",
    "from transformers import RobertaTokenizer\n",
    "from toolkit.nlp import TextDataset\n",
    "from toolkit.nlp import NLPTrainingConfig\n",
    "from toolkit.enums import Split\n",
    "\n",
    "model_path = \"outputs/QQP/roberta-base/ORI/all/baseline_val_all/5/32/2e-05/5/optimal_checkpoint\"\n",
    "model_type = model_path.split(\"/\")[2]\n",
    "# data_file_path = 'data/QQP/validation/vicuna/Rephrase_the_following_question_and_keep_the_meaning_the_same:/all.jsonl'\n",
    "config = NLPTrainingConfig.load(model_path)\n",
    "tokenizer = RobertaTokenizer.from_pretrained(config.model_dir)\n",
    "# dataset = TextDataset(data_file_path, model_type, tokenizer, LOAD_DATA_FNS[DatasetName.QQP], text_type=TextType.DATA_AUG_REP4)\n",
    "dataset = TextDataset.from_file(\n",
    "    config.val_file_path,\n",
    "    tokenizer,\n",
    "    split=Split.VALIDATION,\n",
    "    configs=config,\n",
    "    load_data_fn=LOAD_DATA_FNS[DatasetName[config.dataset_name]],\n",
    "    text_type=TextType[config.text_type],\n",
    ")\n",
    "dataset.report()"
   ]
  },
  {
   "cell_type": "code",
   "execution_count": 29,
   "metadata": {},
   "outputs": [
    {
     "data": {
      "application/vnd.jupyter.widget-view+json": {
       "model_id": "db11d6f032c44221aa9dab76ff78a346",
       "version_major": 2,
       "version_minor": 0
      },
      "text/plain": [
       "VALIDATION:   0%|          | 0/632 [00:00<?, ?batch/s]"
      ]
     },
     "metadata": {},
     "output_type": "display_data"
    },
    {
     "name": "stdout",
     "output_type": "stream",
     "text": [
      "{'Accuracy': 91.70665347514222, 'F1-score': 88.93070549007956, 'Loss': 0.27683316560350124}\n"
     ]
    }
   ],
   "source": [
    "from toolkit.training import Trainer\n",
    "from model.MatchModel_binary_classification import RobertaModel_binary_classify\n",
    "\n",
    "from toolkit.enums import Split\n",
    "from utils.evaluate import calculate_metric_callback\n",
    "\n",
    "\n",
    "model = RobertaModel_binary_classify.from_pretrained(model_path)\n",
    "config.batch_size_infer = 64\n",
    "\n",
    "trainer = Trainer(\n",
    "    \"classify\",\n",
    "    evaluate_only=True,\n",
    "    config=config,\n",
    "    model=model,\n",
    "    tokenizer=tokenizer,\n",
    "    dataset_val=dataset,\n",
    "    calculate_metric_callback=lambda x, y, z: calculate_metric_callback(x, y, z, DatasetName[config.dataset_name], TextType[config.text_type], dataset),\n",
    ")\n",
    "metric_dict, *a, all_logits, all_labels = trainer.evaluate(Split.VALIDATION, cuda_id=0)\n",
    "print(metric_dict)"
   ]
  },
  {
   "cell_type": "code",
   "execution_count": 30,
   "metadata": {},
   "outputs": [],
   "source": [
    "import torch\n",
    "import numpy as np\n",
    "\n",
    "all_prob = torch.sigmoid(torch.tensor(all_logits)).numpy()"
   ]
  },
  {
   "cell_type": "code",
   "execution_count": 31,
   "metadata": {},
   "outputs": [],
   "source": [
    "%load_ext autoreload\n",
    "%autoreload 2"
   ]
  },
  {
   "cell_type": "code",
   "execution_count": 32,
   "metadata": {},
   "outputs": [
    {
     "data": {
      "image/png": "[encoded data removed]",
      "text/plain": [
       "<Figure size 800x450 with 1 Axes>"
      ]
     },
     "metadata": {},
     "output_type": "display_data"
    }
   ],
   "source": [
    "from toolkit.chart import LineChart\n",
    "\n",
    "\n",
    "chart = LineChart()\n",
    "chart.draw(np.array(range(len(all_prob))).reshape(1,1,1,-1), np.sort(np.abs(all_prob-all_labels), axis=0).reshape(1,1,1,-1), np.array('dif').reshape(1,1,1,-1))\n",
    "chart.show()"
   ]
  },
  {
   "cell_type": "markdown",
   "metadata": {},
   "source": [
    "# Training set"
   ]
  },
  {
   "cell_type": "code",
   "execution_count": 33,
   "metadata": {},
   "outputs": [
    {
     "name": "stdout",
     "output_type": "stream",
     "text": [
      "2023-08-24 18:41:18,464\u001b[32m <INFO> Configuration: 👻 Custom attributes:\u001b[0m\n",
      "2023-08-24 18:41:18,465\u001b[32m <INFO> Configuration:    text_type=ORI\u001b[0m\n",
      "2023-08-24 18:41:18,466\u001b[32m <INFO> Configuration:    part=all\u001b[0m\n",
      "2023-08-24 18:41:18,467\u001b[32m <INFO> Configuration:    min_threshold=True\u001b[0m\n"
     ]
    },
    {
     "name": "stdout",
     "output_type": "stream",
     "text": [
      "2023-08-24 18:41:18,547 <DEBUG> TextDataset: ⏳ Loading TRAINING dataset ...\u001b[0m\n",
      "2023-08-24 18:41:18,548 <DEBUG> TextDataset: 💿 Loading dataset from cache ...\u001b[0m\n",
      "2023-08-24 18:41:23,109 <DEBUG> TextDataset: ✔️  Load successfully.\u001b[0m\n",
      "2023-08-24 18:41:23,110 <DEBUG> TextDataset: ⌛ Loading TRAINING data takes 4.56 sec.\u001b[0m\n",
      "2023-08-24 18:41:23,111\u001b[32m <INFO> TextDataset: Total data: 363846\u001b[0m\n",
      "2023-08-24 18:41:23,111\u001b[32m <INFO> TextDataset: Max length of input: 317\u001b[0m\n",
      "2023-08-24 18:41:23,112\u001b[32m <INFO> TextDataset: Max length of label: 1\u001b[0m\n",
      "2023-08-24 18:41:23,113\u001b[32m <INFO> TextDataset: Total data: 363846\u001b[0m\n",
      "2023-08-24 18:41:23,114\u001b[32m <INFO> TextDataset: Max length of input: 317\u001b[0m\n",
      "2023-08-24 18:41:23,114\u001b[32m <INFO> TextDataset: Max length of label: 1\u001b[0m\n"
     ]
    }
   ],
   "source": [
    "from load_data_fns import LOAD_DATA_FNS, DatasetName, TextType\n",
    "\n",
    "# from torch.utils.data import DataLoader\n",
    "from transformers import RobertaTokenizer\n",
    "from toolkit.nlp import TextDataset\n",
    "from toolkit.nlp import NLPTrainingConfig\n",
    "from toolkit.enums import Split\n",
    "\n",
    "model_path = \"outputs/QQP/roberta-base/ORI/all/baseline_val_all/3/16/2e-05/5/optimal_checkpoint\"\n",
    "model_type = model_path.split(\"/\")[2]\n",
    "# data_file_path = 'data/QQP/validation/vicuna/Rephrase_the_following_question_and_keep_the_meaning_the_same:/all.jsonl'\n",
    "config = NLPTrainingConfig.load(model_path)\n",
    "tokenizer = RobertaTokenizer.from_pretrained(config.model_dir)\n",
    "# dataset = TextDataset(data_file_path, model_type, tokenizer, LOAD_DATA_FNS[DatasetName.QQP], text_type=TextType.DATA_AUG_REP4)\n",
    "dataset = TextDataset.from_file(\n",
    "    config.train_file_path,\n",
    "    tokenizer,\n",
    "    split=Split.TRAINING,\n",
    "    configs=config,\n",
    "    load_data_fn=LOAD_DATA_FNS[DatasetName[config.dataset_name]],\n",
    "    text_type=TextType[config.text_type],\n",
    ")\n",
    "dataset.report()"
   ]
  },
  {
   "cell_type": "code",
   "execution_count": 34,
   "metadata": {},
   "outputs": [
    {
     "data": {
      "application/vnd.jupyter.widget-view+json": {
       "model_id": "a3e0c2e48e3f47a993c6a1075c01dea7",
       "version_major": 2,
       "version_minor": 0
      },
      "text/plain": [
       "VALIDATION:   0%|          | 0/5686 [00:00<?, ?batch/s]"
      ]
     },
     "metadata": {},
     "output_type": "display_data"
    },
    {
     "name": "stdout",
     "output_type": "stream",
     "text": [
      "{'Accuracy': 96.85196484226843, 'F1-score': 95.82111115975657, 'Loss': 0.08947365722729393}\n"
     ]
    }
   ],
   "source": [
    "from toolkit.training import Trainer\n",
    "from model.MatchModel_binary_classification import RobertaModel_binary_classify\n",
    "\n",
    "from toolkit.enums import Split\n",
    "from utils.evaluate import calculate_metric_callback\n",
    "\n",
    "\n",
    "model = RobertaModel_binary_classify.from_pretrained(model_path)\n",
    "config.batch_size_infer = 64\n",
    "\n",
    "trainer = Trainer(\n",
    "    \"classify\",\n",
    "    evaluate_only=True,\n",
    "    config=config,\n",
    "    model=model,\n",
    "    tokenizer=tokenizer,\n",
    "    dataset_val=dataset,\n",
    "    calculate_metric_callback=lambda x, y, z: calculate_metric_callback(x, y, z, DatasetName[config.dataset_name], TextType[config.text_type], dataset),\n",
    ")\n",
    "metric_dict, *a, all_logits, all_labels = trainer.evaluate(Split.VALIDATION, cuda_id=0)\n",
    "print(metric_dict)"
   ]
  },
  {
   "cell_type": "code",
   "execution_count": 35,
   "metadata": {},
   "outputs": [],
   "source": [
    "import torch\n",
    "import numpy as np\n",
    "\n",
    "all_prob = torch.sigmoid(torch.tensor(all_logits)).numpy()"
   ]
  },
  {
   "cell_type": "code",
   "execution_count": 36,
   "metadata": {},
   "outputs": [
    {
     "data": {
      "image/png": "[encoded data removed]",
      "text/plain": [
       "<Figure size 800x450 with 1 Axes>"
      ]
     },
     "metadata": {},
     "output_type": "display_data"
    }
   ],
   "source": [
    "from toolkit.chart import LineChart\n",
    "\n",
    "\n",
    "chart = LineChart()\n",
    "chart.draw(np.array(range(len(all_prob))).reshape(1,1,1,-1), np.sort(np.abs(all_prob-all_labels), axis=0).reshape(1,1,1,-1), np.array('dif').reshape(1,1,1,-1))\n",
    "chart.show()"
   ]
  },
  {
   "cell_type": "code",
   "execution_count": 49,
   "metadata": {},
   "outputs": [
    {
     "name": "stdout",
     "output_type": "stream",
     "text": [
      "<class 'pandas.core.frame.DataFrame'>\n",
      "RangeIndex: 363846 entries, 0 to 363845\n",
      "Data columns (total 5 columns):\n",
      " #   Column     Non-Null Count   Dtype  \n",
      "---  ------     --------------   -----  \n",
      " 0   dif        363846 non-null  float64\n",
      " 1   prob       363846 non-null  float64\n",
      " 2   label      363846 non-null  int64  \n",
      " 3   question1  363846 non-null  object \n",
      " 4   question2  363846 non-null  object \n",
      "dtypes: float64(2), int64(1), object(2)\n",
      "memory usage: 13.9+ MB\n"
     ]
    },
    {
     "data": {
      "text/html": [
       "<div>\n",
       "<style scoped>\n",
       "    .dataframe tbody tr th:only-of-type {\n",
       "        vertical-align: middle;\n",
       "    }\n",
       "\n",
       "    .dataframe tbody tr th {\n",
       "        vertical-align: top;\n",
       "    }\n",
       "\n",
       "    .dataframe thead th {\n",
       "        text-align: right;\n",
       "    }\n",
       "</style>\n",
       "<table border=\"1\" class=\"dataframe\">\n",
       "  <thead>\n",
       "    <tr style=\"text-align: right;\">\n",
       "      <th></th>\n",
       "      <th>dif</th>\n",
       "      <th>prob</th>\n",
       "      <th>label</th>\n",
       "      <th>question1</th>\n",
       "      <th>question2</th>\n",
       "    </tr>\n",
       "  </thead>\n",
       "  <tbody>\n",
       "    <tr>\n",
       "      <th>0</th>\n",
       "      <td>0.000321</td>\n",
       "      <td>0.000321</td>\n",
       "      <td>0</td>\n",
       "      <td>How is the life of a math student? Could you d...</td>\n",
       "      <td>Which level of prepration is enough for the ex...</td>\n",
       "    </tr>\n",
       "    <tr>\n",
       "      <th>1</th>\n",
       "      <td>0.016740</td>\n",
       "      <td>0.983260</td>\n",
       "      <td>1</td>\n",
       "      <td>How do I control my horny emotions?</td>\n",
       "      <td>How do you control your horniness?</td>\n",
       "    </tr>\n",
       "    <tr>\n",
       "      <th>2</th>\n",
       "      <td>0.000492</td>\n",
       "      <td>0.000492</td>\n",
       "      <td>0</td>\n",
       "      <td>What causes stool color to change to yellow?</td>\n",
       "      <td>What can cause stool to come out as little balls?</td>\n",
       "    </tr>\n",
       "    <tr>\n",
       "      <th>3</th>\n",
       "      <td>0.041059</td>\n",
       "      <td>0.958941</td>\n",
       "      <td>1</td>\n",
       "      <td>What can one do after MBBS?</td>\n",
       "      <td>What do i do after my MBBS ?</td>\n",
       "    </tr>\n",
       "    <tr>\n",
       "      <th>4</th>\n",
       "      <td>0.000320</td>\n",
       "      <td>0.000320</td>\n",
       "      <td>0</td>\n",
       "      <td>Where can I find a power outlet for my laptop ...</td>\n",
       "      <td>Would a second airport in Sydney, Australia be...</td>\n",
       "    </tr>\n",
       "  </tbody>\n",
       "</table>\n",
       "</div>"
      ],
      "text/plain": [
       "        dif      prob  label   \n",
       "0  0.000321  0.000321      0  \\\n",
       "1  0.016740  0.983260      1   \n",
       "2  0.000492  0.000492      0   \n",
       "3  0.041059  0.958941      1   \n",
       "4  0.000320  0.000320      0   \n",
       "\n",
       "                                           question1   \n",
       "0  How is the life of a math student? Could you d...  \\\n",
       "1                How do I control my horny emotions?   \n",
       "2       What causes stool color to change to yellow?   \n",
       "3                        What can one do after MBBS?   \n",
       "4  Where can I find a power outlet for my laptop ...   \n",
       "\n",
       "                                           question2  \n",
       "0  Which level of prepration is enough for the ex...  \n",
       "1                 How do you control your horniness?  \n",
       "2  What can cause stool to come out as little balls?  \n",
       "3                       What do i do after my MBBS ?  \n",
       "4  Would a second airport in Sydney, Australia be...  "
      ]
     },
     "execution_count": 49,
     "metadata": {},
     "output_type": "execute_result"
    }
   ],
   "source": [
    "import pandas as pd\n",
    "from collections import defaultdict\n",
    "d = defaultdict(list)\n",
    "\n",
    "for idx, [prob, label, dif, text_pair] in enumerate(zip(all_prob, all_labels, np.abs(all_prob-all_labels), dataset.splited_texts_input)):\n",
    "    d['dif'].append(dif.item())\n",
    "    d['prob'].append(prob.item())\n",
    "    d['label'].append(label.item())\n",
    "    d['question1'].append(text_pair[0])\n",
    "    d['question2'].append(text_pair[1])\n",
    "\n",
    "df = pd.DataFrame(d)\n",
    "df.info()\n",
    "df.head()"
   ]
  },
  {
   "cell_type": "code",
   "execution_count": 50,
   "metadata": {},
   "outputs": [
    {
     "data": {
      "text/html": [
       "<div>\n",
       "<style scoped>\n",
       "    .dataframe tbody tr th:only-of-type {\n",
       "        vertical-align: middle;\n",
       "    }\n",
       "\n",
       "    .dataframe tbody tr th {\n",
       "        vertical-align: top;\n",
       "    }\n",
       "\n",
       "    .dataframe thead th {\n",
       "        text-align: right;\n",
       "    }\n",
       "</style>\n",
       "<table border=\"1\" class=\"dataframe\">\n",
       "  <thead>\n",
       "    <tr style=\"text-align: right;\">\n",
       "      <th></th>\n",
       "      <th>dif</th>\n",
       "      <th>prob</th>\n",
       "      <th>label</th>\n",
       "      <th>question1</th>\n",
       "      <th>question2</th>\n",
       "    </tr>\n",
       "  </thead>\n",
       "  <tbody>\n",
       "    <tr>\n",
       "      <th>35</th>\n",
       "      <td>0.794462</td>\n",
       "      <td>0.794462</td>\n",
       "      <td>0</td>\n",
       "      <td>Has Ancient Sumer been scientifically tested?</td>\n",
       "      <td>Has Ancient History been scientifically tested...</td>\n",
       "    </tr>\n",
       "    <tr>\n",
       "      <th>119</th>\n",
       "      <td>0.714769</td>\n",
       "      <td>0.714769</td>\n",
       "      <td>0</td>\n",
       "      <td>What steps should the Indian government take i...</td>\n",
       "      <td>What steps can be taken by Indian Ministry of ...</td>\n",
       "    </tr>\n",
       "    <tr>\n",
       "      <th>127</th>\n",
       "      <td>0.679699</td>\n",
       "      <td>0.679699</td>\n",
       "      <td>0</td>\n",
       "      <td>How do I recover my forgotten Gmail password?</td>\n",
       "      <td>How do I recover my Gmail password when I don'...</td>\n",
       "    </tr>\n",
       "    <tr>\n",
       "      <th>133</th>\n",
       "      <td>0.624841</td>\n",
       "      <td>0.375159</td>\n",
       "      <td>1</td>\n",
       "      <td>Why should we learn photography?</td>\n",
       "      <td>What is there to learn in photography?</td>\n",
       "    </tr>\n",
       "    <tr>\n",
       "      <th>150</th>\n",
       "      <td>0.517398</td>\n",
       "      <td>0.482602</td>\n",
       "      <td>1</td>\n",
       "      <td>What are the best online coding bootcamps?</td>\n",
       "      <td>What is best online coding bootcamp 2016?</td>\n",
       "    </tr>\n",
       "    <tr>\n",
       "      <th>...</th>\n",
       "      <td>...</td>\n",
       "      <td>...</td>\n",
       "      <td>...</td>\n",
       "      <td>...</td>\n",
       "      <td>...</td>\n",
       "    </tr>\n",
       "    <tr>\n",
       "      <th>363763</th>\n",
       "      <td>0.822053</td>\n",
       "      <td>0.822053</td>\n",
       "      <td>0</td>\n",
       "      <td>How do I prepare for the New SAT?</td>\n",
       "      <td>How do I self study for the new SAT?</td>\n",
       "    </tr>\n",
       "    <tr>\n",
       "      <th>363780</th>\n",
       "      <td>0.994756</td>\n",
       "      <td>0.994756</td>\n",
       "      <td>0</td>\n",
       "      <td>What caused the Spanish Civil War?</td>\n",
       "      <td>What was the Spanish Civil War? What caused it?</td>\n",
       "    </tr>\n",
       "    <tr>\n",
       "      <th>363786</th>\n",
       "      <td>0.580656</td>\n",
       "      <td>0.419344</td>\n",
       "      <td>1</td>\n",
       "      <td>To become a real estate developer, do you need...</td>\n",
       "      <td>Should I do civil engineering or master’s degr...</td>\n",
       "    </tr>\n",
       "    <tr>\n",
       "      <th>363791</th>\n",
       "      <td>0.932523</td>\n",
       "      <td>0.932523</td>\n",
       "      <td>0</td>\n",
       "      <td>What are aqueducts and who were they invented by?</td>\n",
       "      <td>Who invented aqueducts? How were they invented?</td>\n",
       "    </tr>\n",
       "    <tr>\n",
       "      <th>363803</th>\n",
       "      <td>0.681900</td>\n",
       "      <td>0.681900</td>\n",
       "      <td>0</td>\n",
       "      <td>Who is your favorite athlete?</td>\n",
       "      <td>Who is your favorite professional athlete, and...</td>\n",
       "    </tr>\n",
       "  </tbody>\n",
       "</table>\n",
       "<p>11454 rows × 5 columns</p>\n",
       "</div>"
      ],
      "text/plain": [
       "             dif      prob  label   \n",
       "35      0.794462  0.794462      0  \\\n",
       "119     0.714769  0.714769      0   \n",
       "127     0.679699  0.679699      0   \n",
       "133     0.624841  0.375159      1   \n",
       "150     0.517398  0.482602      1   \n",
       "...          ...       ...    ...   \n",
       "363763  0.822053  0.822053      0   \n",
       "363780  0.994756  0.994756      0   \n",
       "363786  0.580656  0.419344      1   \n",
       "363791  0.932523  0.932523      0   \n",
       "363803  0.681900  0.681900      0   \n",
       "\n",
       "                                                question1   \n",
       "35          Has Ancient Sumer been scientifically tested?  \\\n",
       "119     What steps should the Indian government take i...   \n",
       "127         How do I recover my forgotten Gmail password?   \n",
       "133                      Why should we learn photography?   \n",
       "150            What are the best online coding bootcamps?   \n",
       "...                                                   ...   \n",
       "363763                  How do I prepare for the New SAT?   \n",
       "363780                 What caused the Spanish Civil War?   \n",
       "363786  To become a real estate developer, do you need...   \n",
       "363791  What are aqueducts and who were they invented by?   \n",
       "363803                      Who is your favorite athlete?   \n",
       "\n",
       "                                                question2  \n",
       "35      Has Ancient History been scientifically tested...  \n",
       "119     What steps can be taken by Indian Ministry of ...  \n",
       "127     How do I recover my Gmail password when I don'...  \n",
       "133                What is there to learn in photography?  \n",
       "150             What is best online coding bootcamp 2016?  \n",
       "...                                                   ...  \n",
       "363763               How do I self study for the new SAT?  \n",
       "363780    What was the Spanish Civil War? What caused it?  \n",
       "363786  Should I do civil engineering or master’s degr...  \n",
       "363791    Who invented aqueducts? How were they invented?  \n",
       "363803  Who is your favorite professional athlete, and...  \n",
       "\n",
       "[11454 rows x 5 columns]"
      ]
     },
     "execution_count": 50,
     "metadata": {},
     "output_type": "execute_result"
    }
   ],
   "source": [
    "df_wrong = df[df['dif']>0.5]\n",
    "df_wrong"
   ]
  },
  {
   "cell_type": "code",
   "execution_count": null,
   "metadata": {},
   "outputs": [],
   "source": [
    "print(df_wrong[df_wrong['dif']>0.9].to_string(max_rows=None))"
   ]
  },
  {
   "cell_type": "code",
   "execution_count": 53,
   "metadata": {},
   "outputs": [
    {
     "data": {
      "text/html": [
       "<div>\n",
       "<style scoped>\n",
       "    .dataframe tbody tr th:only-of-type {\n",
       "        vertical-align: middle;\n",
       "    }\n",
       "\n",
       "    .dataframe tbody tr th {\n",
       "        vertical-align: top;\n",
       "    }\n",
       "\n",
       "    .dataframe thead th {\n",
       "        text-align: right;\n",
       "    }\n",
       "</style>\n",
       "<table border=\"1\" class=\"dataframe\">\n",
       "  <thead>\n",
       "    <tr style=\"text-align: right;\">\n",
       "      <th></th>\n",
       "      <th>dif</th>\n",
       "      <th>prob</th>\n",
       "      <th>label</th>\n",
       "      <th>question1</th>\n",
       "      <th>question2</th>\n",
       "    </tr>\n",
       "  </thead>\n",
       "  <tbody>\n",
       "    <tr>\n",
       "      <th>124645</th>\n",
       "      <td>0.000319</td>\n",
       "      <td>0.000319</td>\n",
       "      <td>0</td>\n",
       "      <td>What are some consumer products that are commo...</td>\n",
       "      <td>Why is India still a developing country?</td>\n",
       "    </tr>\n",
       "    <tr>\n",
       "      <th>262631</th>\n",
       "      <td>0.000319</td>\n",
       "      <td>0.000319</td>\n",
       "      <td>0</td>\n",
       "      <td>How can I factory reset my HP laptop without a...</td>\n",
       "      <td>Do I need to register a company?</td>\n",
       "    </tr>\n",
       "    <tr>\n",
       "      <th>125428</th>\n",
       "      <td>0.000319</td>\n",
       "      <td>0.000319</td>\n",
       "      <td>0</td>\n",
       "      <td>If Carmelo Anthony is given the team that LeBr...</td>\n",
       "      <td>If LeBron James, Kyrie Irving, Anthony Bennett...</td>\n",
       "    </tr>\n",
       "    <tr>\n",
       "      <th>127807</th>\n",
       "      <td>0.000319</td>\n",
       "      <td>0.000319</td>\n",
       "      <td>0</td>\n",
       "      <td>Can the new product by Amazon 'Echo' recognize...</td>\n",
       "      <td>What are the differences between Amazon Echo, ...</td>\n",
       "    </tr>\n",
       "    <tr>\n",
       "      <th>191419</th>\n",
       "      <td>0.000319</td>\n",
       "      <td>0.000319</td>\n",
       "      <td>0</td>\n",
       "      <td>Is taking Remicade infusion to treat ankylosin...</td>\n",
       "      <td>My beloved girlfriend has a leg disease, the m...</td>\n",
       "    </tr>\n",
       "  </tbody>\n",
       "</table>\n",
       "</div>"
      ],
      "text/plain": [
       "             dif      prob  label   \n",
       "124645  0.000319  0.000319      0  \\\n",
       "262631  0.000319  0.000319      0   \n",
       "125428  0.000319  0.000319      0   \n",
       "127807  0.000319  0.000319      0   \n",
       "191419  0.000319  0.000319      0   \n",
       "\n",
       "                                                question1   \n",
       "124645  What are some consumer products that are commo...  \\\n",
       "262631  How can I factory reset my HP laptop without a...   \n",
       "125428  If Carmelo Anthony is given the team that LeBr...   \n",
       "127807  Can the new product by Amazon 'Echo' recognize...   \n",
       "191419  Is taking Remicade infusion to treat ankylosin...   \n",
       "\n",
       "                                                question2  \n",
       "124645           Why is India still a developing country?  \n",
       "262631                   Do I need to register a company?  \n",
       "125428  If LeBron James, Kyrie Irving, Anthony Bennett...  \n",
       "127807  What are the differences between Amazon Echo, ...  \n",
       "191419  My beloved girlfriend has a leg disease, the m...  "
      ]
     },
     "execution_count": 53,
     "metadata": {},
     "output_type": "execute_result"
    }
   ],
   "source": [
    "sorted_df = df.sort_values('dif', ascending=True)\n",
    "sorted_df.head()"
   ]
  },
  {
   "cell_type": "code",
   "execution_count": 54,
   "metadata": {},
   "outputs": [],
   "source": [
    "sorted_df.to_json('data/QQP/train/all_sorted.json')"
   ]
  },
  {
   "cell_type": "code",
   "execution_count": 1,
   "metadata": {},
   "outputs": [
    {
     "name": "stdout",
     "output_type": "stream",
     "text": [
      "<class 'pandas.core.frame.DataFrame'>\n",
      "RangeIndex: 363846 entries, 0 to 363845\n",
      "Data columns (total 5 columns):\n",
      " #   Column     Non-Null Count   Dtype  \n",
      "---  ------     --------------   -----  \n",
      " 0   dif        363846 non-null  float64\n",
      " 1   prob       363846 non-null  float64\n",
      " 2   label      363846 non-null  int64  \n",
      " 3   question1  363846 non-null  object \n",
      " 4   question2  363846 non-null  object \n",
      "dtypes: float64(2), int64(1), object(2)\n",
      "memory usage: 13.9+ MB\n"
     ]
    },
    {
     "data": {
      "text/html": [
       "<div>\n",
       "<style scoped>\n",
       "    .dataframe tbody tr th:only-of-type {\n",
       "        vertical-align: middle;\n",
       "    }\n",
       "\n",
       "    .dataframe tbody tr th {\n",
       "        vertical-align: top;\n",
       "    }\n",
       "\n",
       "    .dataframe thead th {\n",
       "        text-align: right;\n",
       "    }\n",
       "</style>\n",
       "<table border=\"1\" class=\"dataframe\">\n",
       "  <thead>\n",
       "    <tr style=\"text-align: right;\">\n",
       "      <th></th>\n",
       "      <th>dif</th>\n",
       "      <th>prob</th>\n",
       "      <th>label</th>\n",
       "      <th>question1</th>\n",
       "      <th>question2</th>\n",
       "    </tr>\n",
       "  </thead>\n",
       "  <tbody>\n",
       "    <tr>\n",
       "      <th>0</th>\n",
       "      <td>0.000319</td>\n",
       "      <td>0.000319</td>\n",
       "      <td>0</td>\n",
       "      <td>What are some consumer products that are commo...</td>\n",
       "      <td>Why is India still a developing country?</td>\n",
       "    </tr>\n",
       "    <tr>\n",
       "      <th>1</th>\n",
       "      <td>0.000319</td>\n",
       "      <td>0.000319</td>\n",
       "      <td>0</td>\n",
       "      <td>How can I factory reset my HP laptop without a...</td>\n",
       "      <td>Do I need to register a company?</td>\n",
       "    </tr>\n",
       "    <tr>\n",
       "      <th>2</th>\n",
       "      <td>0.000319</td>\n",
       "      <td>0.000319</td>\n",
       "      <td>0</td>\n",
       "      <td>If Carmelo Anthony is given the team that LeBr...</td>\n",
       "      <td>If LeBron James, Kyrie Irving, Anthony Bennett...</td>\n",
       "    </tr>\n",
       "    <tr>\n",
       "      <th>3</th>\n",
       "      <td>0.000319</td>\n",
       "      <td>0.000319</td>\n",
       "      <td>0</td>\n",
       "      <td>Can the new product by Amazon 'Echo' recognize...</td>\n",
       "      <td>What are the differences between Amazon Echo, ...</td>\n",
       "    </tr>\n",
       "    <tr>\n",
       "      <th>4</th>\n",
       "      <td>0.000319</td>\n",
       "      <td>0.000319</td>\n",
       "      <td>0</td>\n",
       "      <td>Is taking Remicade infusion to treat ankylosin...</td>\n",
       "      <td>My beloved girlfriend has a leg disease, the m...</td>\n",
       "    </tr>\n",
       "  </tbody>\n",
       "</table>\n",
       "</div>"
      ],
      "text/plain": [
       "        dif      prob  label   \n",
       "0  0.000319  0.000319      0  \\\n",
       "1  0.000319  0.000319      0   \n",
       "2  0.000319  0.000319      0   \n",
       "3  0.000319  0.000319      0   \n",
       "4  0.000319  0.000319      0   \n",
       "\n",
       "                                           question1   \n",
       "0  What are some consumer products that are commo...  \\\n",
       "1  How can I factory reset my HP laptop without a...   \n",
       "2  If Carmelo Anthony is given the team that LeBr...   \n",
       "3  Can the new product by Amazon 'Echo' recognize...   \n",
       "4  Is taking Remicade infusion to treat ankylosin...   \n",
       "\n",
       "                                           question2  \n",
       "0           Why is India still a developing country?  \n",
       "1                   Do I need to register a company?  \n",
       "2  If LeBron James, Kyrie Irving, Anthony Bennett...  \n",
       "3  What are the differences between Amazon Echo, ...  \n",
       "4  My beloved girlfriend has a leg disease, the m...  "
      ]
     },
     "execution_count": 1,
     "metadata": {},
     "output_type": "execute_result"
    }
   ],
   "source": [
    "import pandas as pd\n",
    "\n",
    "sorted_df = pd.read_json('data/QQP/train/all_sorted.json')\n",
    "sorted_df = sorted_df.reset_index(drop=True)\n",
    "sorted_df.info()\n",
    "sorted_df.head()"
   ]
  },
  {
   "cell_type": "code",
   "execution_count": 2,
   "metadata": {},
   "outputs": [
    {
     "name": "stdout",
     "output_type": "stream",
     "text": [
      "140952\n",
      "352392\n"
     ]
    }
   ],
   "source": [
    "print(sorted_df['label'].to_list().index(1))\n",
    "print(sorted_df[sorted_df['dif']>0.5].index[0])"
   ]
  },
  {
   "cell_type": "code",
   "execution_count": 23,
   "metadata": {},
   "outputs": [
    {
     "name": "stdout",
     "output_type": "stream",
     "text": [
      "<class 'pandas.core.frame.DataFrame'>\n",
      "RangeIndex: 128967 entries, 223425 to 352391\n",
      "Data columns (total 5 columns):\n",
      " #   Column     Non-Null Count   Dtype  \n",
      "---  ------     --------------   -----  \n",
      " 0   dif        128967 non-null  float64\n",
      " 1   prob       128967 non-null  float64\n",
      " 2   label      128967 non-null  int64  \n",
      " 3   question1  128967 non-null  object \n",
      " 4   question2  128967 non-null  object \n",
      "dtypes: float64(2), int64(1), object(2)\n",
      "memory usage: 4.9+ MB\n"
     ]
    },
    {
     "data": {
      "text/html": [
       "<div>\n",
       "<style scoped>\n",
       "    .dataframe tbody tr th:only-of-type {\n",
       "        vertical-align: middle;\n",
       "    }\n",
       "\n",
       "    .dataframe tbody tr th {\n",
       "        vertical-align: top;\n",
       "    }\n",
       "\n",
       "    .dataframe thead th {\n",
       "        text-align: right;\n",
       "    }\n",
       "</style>\n",
       "<table border=\"1\" class=\"dataframe\">\n",
       "  <thead>\n",
       "    <tr style=\"text-align: right;\">\n",
       "      <th></th>\n",
       "      <th>dif</th>\n",
       "      <th>prob</th>\n",
       "      <th>label</th>\n",
       "      <th>question1</th>\n",
       "      <th>question2</th>\n",
       "    </tr>\n",
       "  </thead>\n",
       "  <tbody>\n",
       "    <tr>\n",
       "      <th>223425</th>\n",
       "      <td>0.010001</td>\n",
       "      <td>0.989999</td>\n",
       "      <td>1</td>\n",
       "      <td>Which US presidents were assassinated and why?</td>\n",
       "      <td>Which US Presidents were assassinated?</td>\n",
       "    </tr>\n",
       "    <tr>\n",
       "      <th>223426</th>\n",
       "      <td>0.010001</td>\n",
       "      <td>0.989999</td>\n",
       "      <td>1</td>\n",
       "      <td>What do Chinese people think about the Indians?</td>\n",
       "      <td>What do Chinese people think of Indians?</td>\n",
       "    </tr>\n",
       "    <tr>\n",
       "      <th>223427</th>\n",
       "      <td>0.010001</td>\n",
       "      <td>0.989999</td>\n",
       "      <td>1</td>\n",
       "      <td>What are some products made from crude oil?</td>\n",
       "      <td>What are some of the products made from crude ...</td>\n",
       "    </tr>\n",
       "    <tr>\n",
       "      <th>223428</th>\n",
       "      <td>0.010002</td>\n",
       "      <td>0.010002</td>\n",
       "      <td>0</td>\n",
       "      <td>How do I start a program while anchoring?</td>\n",
       "      <td>What are tips for anchoring?</td>\n",
       "    </tr>\n",
       "    <tr>\n",
       "      <th>223429</th>\n",
       "      <td>0.010002</td>\n",
       "      <td>0.010002</td>\n",
       "      <td>0</td>\n",
       "      <td>Why hasn't PLA attacked Taiwan yet?</td>\n",
       "      <td>Why hasn't China taken the place of the US in ...</td>\n",
       "    </tr>\n",
       "  </tbody>\n",
       "</table>\n",
       "</div>"
      ],
      "text/plain": [
       "             dif      prob  label   \n",
       "223425  0.010001  0.989999      1  \\\n",
       "223426  0.010001  0.989999      1   \n",
       "223427  0.010001  0.989999      1   \n",
       "223428  0.010002  0.010002      0   \n",
       "223429  0.010002  0.010002      0   \n",
       "\n",
       "                                              question1   \n",
       "223425   Which US presidents were assassinated and why?  \\\n",
       "223426  What do Chinese people think about the Indians?   \n",
       "223427      What are some products made from crude oil?   \n",
       "223428        How do I start a program while anchoring?   \n",
       "223429              Why hasn't PLA attacked Taiwan yet?   \n",
       "\n",
       "                                                question2  \n",
       "223425             Which US Presidents were assassinated?  \n",
       "223426           What do Chinese people think of Indians?  \n",
       "223427  What are some of the products made from crude ...  \n",
       "223428                       What are tips for anchoring?  \n",
       "223429  Why hasn't China taken the place of the US in ...  "
      ]
     },
     "execution_count": 23,
     "metadata": {},
     "output_type": "execute_result"
    }
   ],
   "source": [
    "# filtered_df = sorted_df.iloc[sorted_df['label'].to_list().index(1):sorted_df[sorted_df['dif']>0.5].index[0]]\n",
    "filtered_df = sorted_df.iloc[sorted_df[sorted_df[\"dif\"] > 0.01].index[0] : sorted_df[sorted_df[\"dif\"] > 0.5].index[0]]\n",
    "filtered_df.info()\n",
    "filtered_df.head()"
   ]
  },
  {
   "cell_type": "code",
   "execution_count": 24,
   "metadata": {},
   "outputs": [
    {
     "data": {
      "text/plain": [
       "label\n",
       "1    90313\n",
       "0    38654\n",
       "Name: count, dtype: int64"
      ]
     },
     "execution_count": 24,
     "metadata": {},
     "output_type": "execute_result"
    }
   ],
   "source": [
    "filtered_df.value_counts('label')"
   ]
  },
  {
   "cell_type": "code",
   "execution_count": 25,
   "metadata": {},
   "outputs": [
    {
     "data": {
      "image/png": "[encoded data removed]",
      "text/plain": [
       "<Figure size 800x450 with 1 Axes>"
      ]
     },
     "metadata": {},
     "output_type": "display_data"
    }
   ],
   "source": [
    "from toolkit.chart import LineChart\n",
    "import numpy as np\n",
    "diffs = filtered_df['dif']\n",
    "chart = LineChart()\n",
    "chart.draw(np.array(range(len(diffs))).reshape(1,1,1,-1), np.sort(diffs, axis=0).reshape(1,1,1,-1), np.array('dif').reshape(1,1,1,-1))\n",
    "chart.show()"
   ]
  },
  {
   "cell_type": "code",
   "execution_count": null,
   "metadata": {},
   "outputs": [],
   "source": []
  }
 ],
 "metadata": {
  "kernelspec": {
   "display_name": "nlp2",
   "language": "python",
   "name": "python3"
  },
  "language_info": {
   "codemirror_mode": {
    "name": "ipython",
    "version": 3
   },
   "file_extension": ".py",
   "mimetype": "text/x-python",
   "name": "python",
   "nbconvert_exporter": "python",
   "pygments_lexer": "ipython3",
   "version": "3.11.2"
  },
  "orig_nbformat": 4
 },
 "nbformat": 4,
 "nbformat_minor": 2
}
